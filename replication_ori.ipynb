{
 "cells": [
  {
   "cell_type": "markdown",
   "id": "7baae84c",
   "metadata": {},
   "source": [
    "Counting the number of times a kmer appears in a DNA string"
   ]
  },
  {
   "cell_type": "code",
   "execution_count": 1,
   "id": "400a05dd",
   "metadata": {},
   "outputs": [],
   "source": [
    "def PatternCount(text, pattern):\n",
    "    count = 0\n",
    "    for i in range(len(text) - len(pattern) + 1):\n",
    "        if text[i:i + len(pattern)] == pattern:\n",
    "            count += 1\n",
    "    return count"
   ]
  },
  {
   "cell_type": "code",
   "execution_count": 2,
   "id": "f6efb8ec",
   "metadata": {},
   "outputs": [
    {
     "data": {
      "text/plain": [
       "24"
      ]
     },
     "execution_count": 2,
     "metadata": {},
     "output_type": "execute_result"
    }
   ],
   "source": [
    "with open(\"PatternCount.txt\", \"r\") as text_pattern_file:\n",
    "    lines = text_pattern_file.readlines()\n",
    "    text = lines[0].strip()\n",
    "    pattern = lines[1].strip()\n",
    "\n",
    "PatternCount(text, pattern)"
   ]
  },
  {
   "cell_type": "markdown",
   "id": "147d0fbe",
   "metadata": {},
   "source": [
    "The most frequent kmer of certain length in a DNA string"
   ]
  },
  {
   "cell_type": "code",
   "execution_count": 2,
   "id": "2ab8610e",
   "metadata": {},
   "outputs": [],
   "source": [
    "def FrequentWords(Text, k):\n",
    "    Count = {}\n",
    "    for i in range(len(Text) - k + 1):\n",
    "        Pattern = Text[i : k + i]\n",
    "        if Pattern in Count:\n",
    "            Count[Pattern] += 1\n",
    "        else:\n",
    "            Count[Pattern] = 1\n",
    "\n",
    "    max_freq = max(Count.values())\n",
    "    \n",
    "    print(f\"The k-mer(s) of length {k} with maximum frequency {max_freq} are:\")\n",
    "    for j,k in Count.items():\n",
    "        if k == max_freq:\n",
    "            print(j)"
   ]
  },
  {
   "cell_type": "code",
   "execution_count": 4,
   "id": "b81ed17f",
   "metadata": {},
   "outputs": [
    {
     "name": "stdout",
     "output_type": "stream",
     "text": [
      "The k-mer(s) of length 12 with maximum frequency 8 are:\n",
      "TAGACCATAATG\n",
      "AGACCATAATGA\n",
      "GACCATAATGAC\n",
      "ACCATAATGACG\n",
      "CCATAATGACGG\n",
      "CATAATGACGGC\n",
      "ATAATGACGGCT\n"
     ]
    }
   ],
   "source": [
    "with open(\"FrequentWords.txt\", \"r\") as text_kmer_file:\n",
    "    lines = text_kmer_file.readlines()\n",
    "    text = lines[0].strip()\n",
    "    kmer = int(lines[1].strip())\n",
    "\n",
    "FrequentWords(text, kmer)"
   ]
  },
  {
   "cell_type": "markdown",
   "id": "26142b76",
   "metadata": {},
   "source": [
    "The recursive algorithms shown below are based on the Towers of Hanoi recursion problem"
   ]
  },
  {
   "cell_type": "code",
   "execution_count": 4,
   "id": "21dfa59c",
   "metadata": {},
   "outputs": [
    {
     "name": "stdout",
     "output_type": "stream",
     "text": [
      "Move disk 1 from peg 1 to peg 3\n",
      "Move disk 2 from peg 1 to peg 2\n",
      "Move disk 1 from peg 3 to peg 2\n",
      "Move disk 3 from peg 1 to peg 3\n",
      "Move disk 1 from peg 2 to peg 1\n",
      "Move disk 2 from peg 2 to peg 3\n",
      "Move disk 1 from peg 1 to peg 3\n"
     ]
    }
   ],
   "source": [
    "def HanoiTowers(n, startPeg, destinationPeg):\n",
    "    if n == 1:\n",
    "        print(f\"Move disk 1 from peg {startPeg} to peg {destinationPeg}\")\n",
    "        return\n",
    "    transitPeg = 6 - startPeg - destinationPeg \n",
    "    # Since 1+2+3=6, 1 = startPeg, 2 = transitPeg, 3 = destinationPeg\n",
    "    HanoiTowers(n - 1, startPeg, transitPeg) \n",
    "    # Move n - 1 disks from the start peg to the transit peg\n",
    "    print(f\"Move disk {n} from peg {startPeg} to peg {destinationPeg}\")\n",
    "    # Once the recursion of line 7 stops i.e., all the n - 1 disks move from peg 1 to peg 2,\n",
    "    # the largest disk (disk n) moves directly to peg 3\n",
    "    HanoiTowers(n - 1, transitPeg, destinationPeg)\n",
    "    # Move n - 1 disks from the transit peg to the destination peg\n",
    "\n",
    "HanoiTowers(3, 1, 3)"
   ]
  },
  {
   "cell_type": "markdown",
   "id": "08801da9",
   "metadata": {},
   "source": [
    "Transforming a k-mer pattern into an integer"
   ]
  },
  {
   "cell_type": "code",
   "execution_count": 3,
   "id": "fddbe11c",
   "metadata": {},
   "outputs": [],
   "source": [
    "def SymbolToNumber(symbol):\n",
    "    mapping = {'A': 0, 'C': 1, 'G': 2, 'T': 3}\n",
    "    return mapping[symbol]\n",
    "\n",
    "def PatternToNumber(pattern):\n",
    "    if not pattern:\n",
    "        return 0\n",
    "    prefix = pattern[:-1]\n",
    "    symbol = pattern[-1]\n",
    "    return 4 * PatternToNumber(prefix) + SymbolToNumber(symbol)"
   ]
  },
  {
   "cell_type": "code",
   "execution_count": 7,
   "id": "a66c9cf4",
   "metadata": {},
   "outputs": [
    {
     "data": {
      "text/plain": [
       "11"
      ]
     },
     "execution_count": 7,
     "metadata": {},
     "output_type": "execute_result"
    }
   ],
   "source": [
    "PatternToNumber(\"AGT\")"
   ]
  },
  {
   "cell_type": "markdown",
   "id": "cafda00b",
   "metadata": {},
   "source": [
    "Transforming an integer into its k-mer pattern given the length of the kmer"
   ]
  },
  {
   "cell_type": "code",
   "execution_count": 4,
   "id": "ead6309a",
   "metadata": {},
   "outputs": [],
   "source": [
    "def NumberToSymbol(number):\n",
    "    mapping = {0: 'A', 1: 'C', 2: 'G', 3: 'T'}\n",
    "    return mapping[number]\n",
    "\n",
    "def NumberToPattern(index, k):\n",
    "    if k == 1:\n",
    "        return NumberToSymbol(index)\n",
    "    prefix_index = index // 4 # Quotient\n",
    "    r = index % 4 # Remainder\n",
    "    symbol = NumberToSymbol(r)\n",
    "    prefix_pattern = NumberToPattern(prefix_index, k - 1)\n",
    "    return prefix_pattern + symbol"
   ]
  },
  {
   "cell_type": "code",
   "execution_count": 9,
   "id": "2557356c",
   "metadata": {},
   "outputs": [
    {
     "data": {
      "text/plain": [
       "'GCGGTAA'"
      ]
     },
     "execution_count": 9,
     "metadata": {},
     "output_type": "execute_result"
    }
   ],
   "source": [
    "NumberToPattern(9904, 7)"
   ]
  },
  {
   "cell_type": "markdown",
   "id": "d7bf8b75",
   "metadata": {},
   "source": [
    "An algorithm for finding the most frequent kmer of certain length that is faster than FrequentWords would be to create a lexicographically sorted dictionary of kmers of the specified length along with their index and populating the frequencies based on the kmer appearance in the string"
   ]
  },
  {
   "cell_type": "code",
   "execution_count": 5,
   "id": "7531d98b",
   "metadata": {},
   "outputs": [],
   "source": [
    "def ComputingFrequencies(Text, k):\n",
    "    frequency_array = [0] * (4 ** k)\n",
    "    for i in range(len(Text) - k + 1):\n",
    "        pattern = Text[i:i + k]\n",
    "        j = PatternToNumber(pattern)\n",
    "        frequency_array[j] += 1\n",
    "    return frequency_array\n",
    "    \n",
    "def FasterFrequentWords(Text, k):\n",
    "    frequent_patterns = set()\n",
    "    frequency_array = ComputingFrequencies(Text, k)\n",
    "    max_count = max(frequency_array)\n",
    "    for i in range(4**k):\n",
    "        if frequency_array[i] == max_count:\n",
    "            pattern = NumberToPattern(i, k)\n",
    "            frequent_patterns.add(pattern)\n",
    "    return frequent_patterns"
   ]
  },
  {
   "cell_type": "code",
   "execution_count": 11,
   "id": "54eebde8",
   "metadata": {},
   "outputs": [
    {
     "data": {
      "text/plain": [
       "{'ACCATAATGACG',\n",
       " 'AGACCATAATGA',\n",
       " 'ATAATGACGGCT',\n",
       " 'CATAATGACGGC',\n",
       " 'CCATAATGACGG',\n",
       " 'GACCATAATGAC',\n",
       " 'TAGACCATAATG'}"
      ]
     },
     "execution_count": 11,
     "metadata": {},
     "output_type": "execute_result"
    }
   ],
   "source": [
    "with open(\"FrequentWords.txt\", \"r\") as text_kmer_file:\n",
    "    lines = text_kmer_file.readlines()\n",
    "    text = lines[0].strip()\n",
    "    kmer = int(lines[1].strip())\n",
    "\n",
    "FasterFrequentWords(text, kmer)"
   ]
  },
  {
   "cell_type": "markdown",
   "id": "d570169f",
   "metadata": {},
   "source": [
    "FrequentWords and FasterFrequentWords are fast for small k but it becomes impractical when the size of kmer is large. Therefore, a faster algorithm would be to identify identical k-mers that clump together in a sorted array"
   ]
  },
  {
   "cell_type": "code",
   "execution_count": 6,
   "id": "31f60f44",
   "metadata": {},
   "outputs": [],
   "source": [
    "def FindingFrequentWordsBySorting(Text, k):\n",
    "    index = []\n",
    "    count = []\n",
    "\n",
    "    for i in range(len(Text) - k + 1):\n",
    "        pattern = Text[i:i + k]\n",
    "        index.append(PatternToNumber(pattern))\n",
    "        count.append(1) \n",
    "        # This initiates the first sorted kmer with count 1 otherwise count[i-1] would return\n",
    "        # an empty value leading to error\n",
    "\n",
    "    sorted_index = sorted(index)\n",
    "\n",
    "# The loop starts from 1 such that the 0th position element can also be tackled\n",
    "    for i in range(1, len(sorted_index)): \n",
    "        if sorted_index[i] == sorted_index[i-1]:\n",
    "            count[i] = count[i-1] + 1\n",
    "        else:\n",
    "            count[i] = 1\n",
    "\n",
    "    max_count = max(count)\n",
    "\n",
    "    frequent_patterns = set()\n",
    "    for i in range(len(count)):\n",
    "        if count[i] == max_count:\n",
    "            pattern = NumberToPattern(sorted_index[i], k)\n",
    "            frequent_patterns.add(pattern)\n",
    "    return frequent_patterns"
   ]
  },
  {
   "cell_type": "code",
   "execution_count": 13,
   "id": "4b98316a",
   "metadata": {},
   "outputs": [
    {
     "data": {
      "text/plain": [
       "{'ACCATAATGACG',\n",
       " 'AGACCATAATGA',\n",
       " 'ATAATGACGGCT',\n",
       " 'CATAATGACGGC',\n",
       " 'CCATAATGACGG',\n",
       " 'GACCATAATGAC',\n",
       " 'TAGACCATAATG'}"
      ]
     },
     "execution_count": 13,
     "metadata": {},
     "output_type": "execute_result"
    }
   ],
   "source": [
    "with open(\"FrequentWords.txt\", \"r\") as text_kmer_file:\n",
    "    lines = text_kmer_file.readlines()\n",
    "    text = lines[0].strip()\n",
    "    kmer = int(lines[1].strip())\n",
    "\n",
    "FindingFrequentWordsBySorting(text, kmer)"
   ]
  },
  {
   "cell_type": "markdown",
   "id": "d4aec739",
   "metadata": {},
   "source": [
    "Finding the reverse complement of a DNA string"
   ]
  },
  {
   "cell_type": "code",
   "execution_count": null,
   "id": "e7d06001",
   "metadata": {},
   "outputs": [],
   "source": [
    "def ReverseComplement(dna):\n",
    "    dna = dna.replace('A','t').replace('T','a').replace('G','c').replace('C','g')\n",
    "    return dna[::-1].upper() # [start:end:step]"
   ]
  },
  {
   "cell_type": "code",
   "execution_count": 18,
   "id": "dc2dcd1f",
   "metadata": {},
   "outputs": [],
   "source": [
    "# Another way\n",
    "def ReverseComplement(Pattern):\n",
    "    complement = {'A': 'T', 'C': 'G', 'G': 'C', 'T': 'A'}\n",
    "    return ''.join(complement[base] for base in reversed(Pattern))"
   ]
  },
  {
   "cell_type": "code",
   "execution_count": 15,
   "id": "f2f476af",
   "metadata": {
    "scrolled": true
   },
   "outputs": [],
   "source": [
    "with open(\"ReverseComplement.txt\", \"r\") as text:\n",
    "    string = text.read().strip()\n",
    "\n",
    "rev_comp = ReverseComplement(string)\n",
    "\n",
    "with open(\"ReverseComplement_output.txt\", \"w\") as rev_comp_text:\n",
    "    rev_comp_text.write(rev_comp)"
   ]
  },
  {
   "cell_type": "markdown",
   "id": "a0d233e0",
   "metadata": {},
   "source": [
    "Identifying the starting positions where a Pattern appears as a substring of Genome"
   ]
  },
  {
   "cell_type": "code",
   "execution_count": 8,
   "id": "6b64029c",
   "metadata": {},
   "outputs": [],
   "source": [
    "def PatternMatching(Pattern, Genome):\n",
    "    pos = []\n",
    "    for i in range(len(Genome)):\n",
    "        if Genome[i:len(Pattern) + i] == Pattern:\n",
    "            pos.append(i)\n",
    "    return pos"
   ]
  },
  {
   "cell_type": "code",
   "execution_count": 17,
   "id": "8284b515",
   "metadata": {},
   "outputs": [],
   "source": [
    "with open(\"PatternMatching.txt\", \"r\") as pat_genome:\n",
    "    lines = pat_genome.readlines()\n",
    "    pattern = lines[0].strip()\n",
    "    genome = lines[1].strip()\n",
    "            \n",
    "result = PatternMatching(pattern, genome)\n",
    "\n",
    "with open(\"PatternMatching_output.txt\", \"w\") as out_file:\n",
    "    out_file.write(\" \".join(map(str, result)))"
   ]
  },
  {
   "cell_type": "markdown",
   "id": "be6e150c",
   "metadata": {},
   "source": [
    "Finding patterns forming clumps in a string"
   ]
  },
  {
   "cell_type": "code",
   "execution_count": 9,
   "id": "f668b966",
   "metadata": {},
   "outputs": [],
   "source": [
    "def ClumpFinding(Genome, k, t, L):\n",
    "    FrequentPatterns = set()\n",
    "    Clump = [0] * (4 ** k)\n",
    "\n",
    "    for i in range(len(Genome) - L + 1):\n",
    "        Text = Genome[i:i + L]\n",
    "        FrequencyArray = ComputingFrequencies(Text, k)\n",
    "        for index in range(4 ** k):\n",
    "            if FrequencyArray[index] >= t:\n",
    "                Clump[index] = 1\n",
    "\n",
    "    for i in range(4 ** k):\n",
    "        if Clump[i] == 1:\n",
    "            Pattern = NumberToPattern(i, k)\n",
    "            FrequentPatterns.add(Pattern)\n",
    "\n",
    "    return FrequentPatterns"
   ]
  },
  {
   "cell_type": "code",
   "execution_count": 27,
   "id": "e0833b64",
   "metadata": {},
   "outputs": [
    {
     "name": "stdout",
     "output_type": "stream",
     "text": [
      "ACGTCACACG CTGTGTGGAG CGCCCCCCAC AACGTCACAC TTTACGGGCA GGCCTACACT TTTGAGTCAC GTGGAAACGA\n"
     ]
    }
   ],
   "source": [
    "with open(\"ClumpFinding.txt\") as in_file:\n",
    "    file_content =  in_file.readlines()\n",
    "    Genome = file_content[0].strip()\n",
    "    numbers = file_content[1].strip().split(\" \")\n",
    "    k = int(numbers[0].strip()) # Length of kmer\n",
    "    L = int(numbers[1].strip()) # Window size\n",
    "    t = int(numbers[2].strip()) # Minimum number of times that a kmer of length k must appear in a stretch of length L in the Genome\n",
    "\n",
    "result = ClumpFinding(Genome, k, t, L)\n",
    "print(\" \".join(result))"
   ]
  },
  {
   "cell_type": "markdown",
   "id": "ed419902",
   "metadata": {},
   "source": [
    "A better algorithm to finding clumps by not calculating the frequency array for every window size"
   ]
  },
  {
   "cell_type": "code",
   "execution_count": 10,
   "id": "3559a086",
   "metadata": {},
   "outputs": [],
   "source": [
    "def BetterClumpFinding(Genome, k, t, L):\n",
    "    FrequentPatterns = set()\n",
    "    \n",
    "    Clump = [0] * (4**k)\n",
    "\n",
    "    Text = Genome[0:L]\n",
    "    FrequencyArray = ComputingFrequencies(Text, k)\n",
    "\n",
    "    for i in range(4**k):\n",
    "        if FrequencyArray[i] >= t:\n",
    "            Clump[i] = 1\n",
    "\n",
    "    for i in range(1, len(Genome) - L + 1): # second window, frequency array from first window already calculated\n",
    "        FirstPattern = Genome[i - 1: i - 1 + k]\n",
    "        index = PatternToNumber(FirstPattern)\n",
    "        FrequencyArray[index] -= 1 # the first pattern is no longer present in the second window\n",
    "\n",
    "        LastPattern = Genome[i + L - k: i + L]\n",
    "        index = PatternToNumber(LastPattern)\n",
    "        FrequencyArray[index] += 1 # the last pattern has been newly introduced in the second window\n",
    "\n",
    "        if FrequencyArray[index] >= t:\n",
    "            Clump[index] = 1\n",
    "\n",
    "    for i in range(4**k):\n",
    "        if Clump[i] == 1:\n",
    "            Pattern = NumberToPattern(i, k)\n",
    "            FrequentPatterns.add(Pattern)\n",
    "\n",
    "    return FrequentPatterns"
   ]
  },
  {
   "cell_type": "code",
   "execution_count": 32,
   "id": "4cbe52c6",
   "metadata": {},
   "outputs": [
    {
     "name": "stdout",
     "output_type": "stream",
     "text": [
      "ACGTCACACG CTGTGTGGAG CGCCCCCCAC AACGTCACAC TTTACGGGCA GGCCTACACT TTTGAGTCAC GTGGAAACGA\n"
     ]
    }
   ],
   "source": [
    "with open(\"ClumpFinding.txt\") as in_file:\n",
    "    file_content =  in_file.readlines()\n",
    "    Genome = file_content[0].strip()\n",
    "    numbers = file_content[1].strip().split(\" \")\n",
    "    k = int(numbers[0].strip())\n",
    "    L = int(numbers[1].strip())\n",
    "    t = int(numbers[2].strip())\n",
    "\n",
    "result = BetterClumpFinding(Genome, k, t, L)\n",
    "print(\" \".join(result))"
   ]
  },
  {
   "cell_type": "markdown",
   "id": "70e1e42f",
   "metadata": {},
   "source": [
    "Estimating the running time of the ClumpFinding problem"
   ]
  },
  {
   "cell_type": "code",
   "execution_count": 33,
   "id": "b0f1d0a7",
   "metadata": {},
   "outputs": [
    {
     "name": "stdout",
     "output_type": "stream",
     "text": [
      "Time taken by ClumpFinding function: 87.1448 seconds\n",
      "Time taken by BetterClumpFinding function: 0.1459 seconds\n"
     ]
    }
   ],
   "source": [
    "import time\n",
    "\n",
    "start_time = time.time()\n",
    "result = ClumpFinding(Genome, k, t, L)\n",
    "end_time = time.time()\n",
    "\n",
    "print(f\"Time taken by ClumpFinding function: {end_time - start_time:.4f} seconds\")\n",
    "\n",
    "start_time = time.time()\n",
    "result = BetterClumpFinding(Genome, k, t, L)\n",
    "end_time = time.time()\n",
    "\n",
    "print(f\"Time taken by BetterClumpFinding function: {end_time - start_time:.4f} seconds\")"
   ]
  },
  {
   "cell_type": "markdown",
   "id": "47832ac7",
   "metadata": {},
   "source": [
    "Finding kmers that form clumps for E-coli"
   ]
  },
  {
   "cell_type": "code",
   "execution_count": 34,
   "id": "72effacb",
   "metadata": {},
   "outputs": [
    {
     "name": "stdout",
     "output_type": "stream",
     "text": [
      "Time taken to find kmers that form clumps in E-coli genome: 35.4117 seconds\n",
      "There are 1904 different 9-mers form (500,3)-clumps in the E. coli genome.\n"
     ]
    }
   ],
   "source": [
    "import time\n",
    "\n",
    "ecoli_genome = open(\"E_coli_genome.txt\").read()\n",
    "k = 9\n",
    "t = 3\n",
    "L = 500\n",
    "\n",
    "start_time = time.time()\n",
    "result = BetterClumpFinding(ecoli_genome, k, t, L)\n",
    "end_time = time.time()\n",
    "\n",
    "print(f\"Time taken to find kmers that form clumps in E-coli genome: {end_time - start_time:.4f} seconds\")\n",
    "\n",
    "with open(\"e_coli_kmer_clumps.txt\", \"w\") as out_file:\n",
    "    out_file.write(\"\\n\".join(result))\n",
    "\n",
    "print(f\"There are {len(result)} different 9-mers form (500,3)-clumps in the E. coli genome.\")"
   ]
  },
  {
   "cell_type": "markdown",
   "id": "fd411266",
   "metadata": {},
   "source": [
    "Finding positions in a genome where the skew diagram attains a minimum"
   ]
  },
  {
   "cell_type": "code",
   "execution_count": 11,
   "id": "47e4d947",
   "metadata": {},
   "outputs": [],
   "source": [
    "import matplotlib.pyplot as plt\n",
    "\n",
    "def MinimumSkewProblem(filename, skew_output_file):\n",
    "    start = 0\n",
    "    skew = [0]\n",
    "\n",
    "    with open(filename, 'r') as file:\n",
    "        seq = file.read().strip()\n",
    "\n",
    "    for i in seq:\n",
    "        if i == 'G':\n",
    "            start += 1\n",
    "        elif i == 'C':\n",
    "            start -= 1\n",
    "        skew.append(start)\n",
    "\n",
    "    plt.figure(figsize=(10, 4))\n",
    "    plt.plot(range(len(skew)), skew)\n",
    "    plt.title(\"Skew Diagram\")\n",
    "    plt.xlabel(\"Position in Genome\")\n",
    "    plt.ylabel(\"Skew (G - C)\")\n",
    "    plt.grid(True)\n",
    "    plt.tight_layout()\n",
    "    plt.show()\n",
    "\n",
    "    min_skew = min(skew)\n",
    "    min_positions = [i for i, value in enumerate(skew) if value == min_skew]\n",
    "\n",
    "    with open(skew_output_file, \"w\") as f:\n",
    "        f.write(' '.join(map(str, skew)))\n",
    "\n",
    "    print(\"The positions in the genome at which the skew attains the minimum:\")\n",
    "    for pos in min_positions:\n",
    "        print(pos)\n",
    "\n",
    "    return min_positions"
   ]
  },
  {
   "cell_type": "code",
   "execution_count": 28,
   "id": "e73da898",
   "metadata": {},
   "outputs": [
    {
     "data": {
      "image/png": "[encoded data removed]",
      "text/plain": [
       "<Figure size 1000x400 with 1 Axes>"
      ]
     },
     "metadata": {},
     "output_type": "display_data"
    },
    {
     "name": "stdout",
     "output_type": "stream",
     "text": [
      "The positions in the genome at which the skew attains the minimum:\n",
      "20175\n",
      "20176\n",
      "20179\n",
      "20187\n"
     ]
    }
   ],
   "source": [
    "min_positions = MinimumSkewProblem(\"MinimumSkewProblem.txt\", skew_output_file = \"skew_values.txt\")"
   ]
  },
  {
   "cell_type": "code",
   "execution_count": 29,
   "id": "15c69316",
   "metadata": {},
   "outputs": [
    {
     "data": {
      "image/png": "[encoded data removed]",
      "text/plain": [
       "<Figure size 1000x400 with 1 Axes>"
      ]
     },
     "metadata": {},
     "output_type": "display_data"
    },
    {
     "name": "stdout",
     "output_type": "stream",
     "text": [
      "The positions in the genome at which the skew attains the minimum:\n",
      "3923620\n",
      "3923621\n",
      "3923622\n",
      "3923623\n"
     ]
    }
   ],
   "source": [
    "# Skew diagram for E-coli\n",
    "min_positions = MinimumSkewProblem(\"E_coli_genome.txt\", skew_output_file = \"skew_values.txt\")"
   ]
  },
  {
   "cell_type": "markdown",
   "id": "4aec1122",
   "metadata": {},
   "source": [
    "Computing the number of mismatches between two string called the Hamming distance"
   ]
  },
  {
   "cell_type": "code",
   "execution_count": 12,
   "id": "3cfc7cb3",
   "metadata": {},
   "outputs": [],
   "source": [
    "def HammingDistance(p, q):\n",
    "    mismatch = 0\n",
    "    for i in range(len(p)):\n",
    "        if p[i] != q[i]:\n",
    "            mismatch += 1\n",
    "    return mismatch"
   ]
  },
  {
   "cell_type": "code",
   "execution_count": 32,
   "id": "691bd362",
   "metadata": {},
   "outputs": [
    {
     "name": "stdout",
     "output_type": "stream",
     "text": [
      "The number of mismatches between two string is: 846\n"
     ]
    }
   ],
   "source": [
    "with open(\"HammingDistance_strings.txt\") as f:\n",
    "    strings = f.readlines()\n",
    "    string1 = strings[0].strip()\n",
    "    string2 = strings[1].strip()\n",
    "\n",
    "result = HammingDistance(string1, string2)\n",
    "print(f\"The number of mismatches between two string is: {result}\")"
   ]
  },
  {
   "cell_type": "markdown",
   "id": "a6011170",
   "metadata": {},
   "source": [
    "Finding all approximate occurrences of a pattern in a string"
   ]
  },
  {
   "cell_type": "code",
   "execution_count": 21,
   "id": "7d6913a8",
   "metadata": {},
   "outputs": [],
   "source": [
    "def ApproximatePatMatch(Text, Pattern, d):\n",
    "    count = 0\n",
    "    positions = []\n",
    "\n",
    "    for i in range(len(Text) - len(Pattern) + 1):\n",
    "        Pattern_Text = Text[i:i+len(Pattern)]\n",
    "        if HammingDistance(Pattern, Pattern_Text) <= d:\n",
    "            positions.append(i)\n",
    "            count += 1\n",
    "\n",
    "    # print(f\"Number of approximate pattern counts: {count}\")\n",
    "    # return positions\n",
    "    return count"
   ]
  },
  {
   "cell_type": "code",
   "execution_count": 50,
   "id": "01cfe8ac",
   "metadata": {},
   "outputs": [
    {
     "name": "stdout",
     "output_type": "stream",
     "text": [
      "Number of approximate pattern counts: 33\n"
     ]
    }
   ],
   "source": [
    "with open(\"ApproximatePatMatch.txt\") as f:\n",
    "    all = f.readlines()\n",
    "    Pattern = all[0].strip()\n",
    "    Text = all[1].strip()\n",
    "    d = int(all[2].strip())\n",
    "\n",
    "result = ApproximatePatMatch(Text, Pattern, d)\n",
    "\n",
    "with open(\"ApproximatePatMatch_starting_pos.txt\", \"w\") as f:\n",
    "    f.write(' '.join(map(str, result)))"
   ]
  },
  {
   "cell_type": "markdown",
   "id": "17594692",
   "metadata": {},
   "source": [
    "Generating d-neigborhood of the Pattern i.e., the set of all k-mers whose Hamming distance from Pattern does not exceed d"
   ]
  },
  {
   "cell_type": "code",
   "execution_count": 14,
   "id": "1777129c",
   "metadata": {},
   "outputs": [
    {
     "name": "stdout",
     "output_type": "stream",
     "text": [
      "['CTC', 'GTC', 'TTC', 'AAC', 'ACC', 'AGC', 'ATA', 'ATG', 'ATT']\n"
     ]
    }
   ],
   "source": [
    "# 1-neigborhood of Pattern\n",
    "def immediate_neighbors(pattern):\n",
    "    neighborhood = []\n",
    "    for i in range(len(pattern)):\n",
    "        symbol = pattern[i]\n",
    "        for nucleotide in 'ACGT':\n",
    "            if nucleotide != symbol:\n",
    "                neighbor = pattern[:i] + nucleotide + pattern[i+1:]\n",
    "                neighborhood.append(neighbor)\n",
    "    return neighborhood\n",
    "\n",
    "pattern = \"ATC\"\n",
    "neighbors = immediate_neighbors(pattern)\n",
    "print(neighbors)"
   ]
  },
  {
   "cell_type": "code",
   "execution_count": 15,
   "id": "a5a96cf7",
   "metadata": {},
   "outputs": [],
   "source": [
    "def Neighbors(Pattern, d):\n",
    "    if d == 0:\n",
    "        return {Pattern}\n",
    "    if len(Pattern) == 1:\n",
    "        return {'A', 'C', 'G', 'T'}\n",
    "\n",
    "    neighborhood = set()\n",
    "    suffix_neighbors = Neighbors(Pattern[1:], d)\n",
    "    for neighbor in suffix_neighbors:\n",
    "        if HammingDistance(Pattern[1:], neighbor) < d:\n",
    "            for nucleotide in {'A', 'C', 'G', 'T'}:\n",
    "                neighborhood.add(nucleotide + neighbor) # the kmers with 1 mismatch in nucleotide + < d mismatch in neighbor\n",
    "        else:\n",
    "            neighborhood.add(Pattern[0] + neighbor) # the kmers with 0 mismatch in first symbol + d mismatch in neighbor\n",
    "    return neighborhood"
   ]
  },
  {
   "cell_type": "code",
   "execution_count": 59,
   "id": "fe97b1e9",
   "metadata": {
    "scrolled": true
   },
   "outputs": [],
   "source": [
    "with open(\"Neighbors.txt\") as f:\n",
    "    all = f.readlines()\n",
    "    Pattern = all[0].strip()\n",
    "    d = int(all[1].strip())\n",
    "\n",
    "with open(\"Neighbors_output.txt\", \"w\") as f:\n",
    "    f.write('\\n'.join(Neighbors(Pattern, d)))"
   ]
  },
  {
   "cell_type": "code",
   "execution_count": 68,
   "id": "31ab27f6",
   "metadata": {},
   "outputs": [
    {
     "data": {
      "text/plain": [
       "'GCC ATA TTA AGT GAC TTT TAC GTC AAC CTA CAC TCC AAG ATG CTG GGC AAT TTC AGA AGC AAA GTG ACG TTG GTA GTT CCC TGC ACC CTC ACA ATT AGG CGC CTT ATC ACT'"
      ]
     },
     "execution_count": 68,
     "metadata": {},
     "output_type": "execute_result"
    }
   ],
   "source": [
    "result = Neighbors(\"ATC\", 2)\n",
    "' '.join(result)"
   ]
  },
  {
   "cell_type": "markdown",
   "id": "a55ef441",
   "metadata": {},
   "source": [
    "Generating all k-mers of Hamming distance exactly d from Pattern"
   ]
  },
  {
   "cell_type": "code",
   "execution_count": 16,
   "id": "74ae69f0",
   "metadata": {},
   "outputs": [],
   "source": [
    "def ExactNeighbors(Pattern, d):\n",
    "    if d == 0:\n",
    "        return set() # No mismatches allowed, but we want exactly d\n",
    "    if len(Pattern) == 1:\n",
    "        # Only include bases that are different if d == 1\n",
    "        return {'A', 'C', 'G', 'T'} - {Pattern} if d == 1 else set() # This works like set subtraction operation\n",
    "    \n",
    "    neighborhood = set()\n",
    "    suffix_neighbors = ExactNeighbors(Pattern[1:], d) | ExactNeighbors(Pattern[1:], d - 1)\n",
    "    for neighbor in suffix_neighbors:\n",
    "        hd = HammingDistance(Pattern[1:], neighbor)\n",
    "        if hd == d:\n",
    "            # No mismatch allowed at the first character\n",
    "            neighborhood.add(Pattern[0] + neighbor)\n",
    "        elif hd == d - 1:\n",
    "            # Introducing a mismatch at the first character\n",
    "            for nucleotide in {'A', 'C', 'G', 'T'} - {Pattern[0]}:\n",
    "                neighborhood.add(nucleotide + neighbor)\n",
    "    return neighborhood"
   ]
  },
  {
   "cell_type": "code",
   "execution_count": 66,
   "id": "5644bebc",
   "metadata": {},
   "outputs": [
    {
     "data": {
      "text/plain": [
       "'GTG AAG TTA ACG ACA CTG TTG GTA GTT AGT AAT AGG TTT CTT AGA ACT AAA CTA'"
      ]
     },
     "execution_count": 66,
     "metadata": {},
     "output_type": "execute_result"
    }
   ],
   "source": [
    "result = ExactNeighbors(\"ATC\", 2)\n",
    "' '.join(result)"
   ]
  },
  {
   "cell_type": "markdown",
   "id": "92a56bce",
   "metadata": {},
   "source": [
    "Building the d-neighborhood of a string iteratively instead of recursively"
   ]
  },
  {
   "cell_type": "code",
   "execution_count": 17,
   "id": "0a239263",
   "metadata": {},
   "outputs": [],
   "source": [
    "def IterativeNeighbors(Pattern, d):\n",
    "    Neighborhood = {Pattern}\n",
    "    for _ in range(d):\n",
    "        NewNeighborhood = set()\n",
    "        for pattern in Neighborhood:\n",
    "            NewNeighborhood.update(immediate_neighbors(pattern))\n",
    "        Neighborhood = Neighborhood.union(NewNeighborhood)\n",
    "    \n",
    "    return Neighborhood"
   ]
  },
  {
   "cell_type": "code",
   "execution_count": 67,
   "id": "2c45afc7",
   "metadata": {},
   "outputs": [
    {
     "data": {
      "text/plain": [
       "'GCC ATA TTA AGT GAC TTT TAC GTC AAC CTA CAC TCC AAG ATG CTG GGC AAT TTC AGA AGC AAA GTG ACG TTG GTA GTT CCC TGC ACC CTC ACA ATT AGG CGC CTT ATC ACT'"
      ]
     },
     "execution_count": 67,
     "metadata": {},
     "output_type": "execute_result"
    }
   ],
   "source": [
    "result = IterativeNeighbors(\"ATC\", 2)\n",
    "' '.join(result)"
   ]
  },
  {
   "cell_type": "markdown",
   "id": "737e202c",
   "metadata": {},
   "source": [
    "Finding the most frequent k-mers with up to d mismatches in Text"
   ]
  },
  {
   "cell_type": "code",
   "execution_count": 22,
   "id": "aab9d4d4",
   "metadata": {},
   "outputs": [],
   "source": [
    "def FrequentWordsWithMismatches(Text, k, d):\n",
    "    FrequentPatterns = set()\n",
    "    FrequencyArray = [0] * (4 ** k)\n",
    "    Close = [0] * (4 ** k)\n",
    "\n",
    "    for i in range(len(Text) - k + 1):\n",
    "        Neighborhood = Neighbors(Text[i:i + k], d)\n",
    "        for Pattern in Neighborhood:\n",
    "            index = PatternToNumber(Pattern)\n",
    "            Close[index] = 1\n",
    "\n",
    "    for i in range(4 ** k):\n",
    "        if Close[i] == 1:\n",
    "            Pattern = NumberToPattern(i, k)\n",
    "            FrequencyArray[i] = ApproximatePatMatch(Text, Pattern, d)\n",
    "\n",
    "    maxCount = max(FrequencyArray)\n",
    "\n",
    "    for i in range(4 ** k):\n",
    "        if FrequencyArray[i] == maxCount:\n",
    "            Pattern = NumberToPattern(i, k)\n",
    "            FrequentPatterns.add(Pattern)\n",
    "\n",
    "    return FrequentPatterns"
   ]
  },
  {
   "cell_type": "code",
   "execution_count": 24,
   "id": "8d854ffd",
   "metadata": {},
   "outputs": [
    {
     "name": "stdout",
     "output_type": "stream",
     "text": [
      "Most frequent k-mers with up to d mismatches are: GAAGAA\n"
     ]
    }
   ],
   "source": [
    "with open(\"FrequentWordsWithMismatches.txt\") as f:\n",
    "    all =f.readlines()\n",
    "    Text = all[0].strip()\n",
    "    k = int((all[1].split(\" \"))[0])\n",
    "    d = int((all[1].split(\" \"))[1])\n",
    "\n",
    "result = FrequentWordsWithMismatches(Text, k, d)\n",
    "print(f\"Most frequent k-mers with up to d mismatches are: {' '.join(result)}\")"
   ]
  },
  {
   "cell_type": "markdown",
   "id": "2fbc8d62",
   "metadata": {},
   "source": [
    "A faster algorithm to find frequent words with mismatches by sorting"
   ]
  },
  {
   "cell_type": "code",
   "execution_count": 25,
   "id": "f6682cb1",
   "metadata": {},
   "outputs": [],
   "source": [
    "def FindingFrequentWordsWithMismatchesBySorting(Text, k, d):\n",
    "    NeighborhoodArray = []\n",
    "\n",
    "    for i in range(len(Text) - k + 1):\n",
    "        pattern = Text[i:i + k]\n",
    "        neighbors = Neighbors(pattern, d)\n",
    "        NeighborhoodArray.extend(neighbors) # There can be duplicate entries\n",
    "\n",
    "    Index = [PatternToNumber(pattern) for pattern in NeighborhoodArray]\n",
    "    Count = [1] * len(Index)\n",
    "\n",
    "    # enumerate gives both the original index and the values and x[1] sorts by the second element i.e., the values\n",
    "    SortedIndex = sorted(enumerate(Index), key=lambda x:x[1])\n",
    "\n",
    "    for i in range(1, len(SortedIndex)):\n",
    "        # If there are two adjacent identical kmers, the count list is updated\n",
    "        if SortedIndex[i][1] == SortedIndex[i-1][1]:\n",
    "            Count[SortedIndex[i][0]] = Count[SortedIndex[i-1][0]] + 1\n",
    "\n",
    "    maxCount = max(Count)\n",
    "    FrequentPatterns = set()\n",
    "\n",
    "    for i, count in enumerate(Count):\n",
    "        if count == maxCount:\n",
    "            pattern = NumberToPattern(Index[i], k)\n",
    "            FrequentPatterns.add(pattern)\n",
    "\n",
    "    return FrequentPatterns"
   ]
  },
  {
   "cell_type": "code",
   "execution_count": 26,
   "id": "23f81e9d",
   "metadata": {},
   "outputs": [
    {
     "name": "stdout",
     "output_type": "stream",
     "text": [
      "Most frequent k-mers with up to d mismatches are: GAAGAA\n"
     ]
    }
   ],
   "source": [
    "with open(\"FrequentWordsWithMismatches.txt\") as f:\n",
    "    all =f.readlines()\n",
    "    Text = all[0].strip()\n",
    "    k = int((all[1].split(\" \"))[0])\n",
    "    d = int((all[1].split(\" \"))[1])\n",
    "\n",
    "result = FindingFrequentWordsWithMismatchesBySorting(Text, k, d)\n",
    "print(f\"Most frequent k-mers with up to d mismatches are: {' '.join(result)}\")"
   ]
  },
  {
   "cell_type": "code",
   "execution_count": 27,
   "id": "cbb18bbe",
   "metadata": {},
   "outputs": [
    {
     "name": "stdout",
     "output_type": "stream",
     "text": [
      "Time taken to find most frequent kmers with up to d mismatches without sorting: 0.8026 seconds\n",
      "Time taken to find most frequent kmers with up to d mismatches with sorting: 0.1801 seconds\n"
     ]
    }
   ],
   "source": [
    "import time\n",
    "\n",
    "with open(\"FrequentWordsWithMismatches.txt\") as f:\n",
    "    all =f.readlines()\n",
    "    Text = all[0].strip()\n",
    "    k = int((all[1].split(\" \"))[0])\n",
    "    d = int((all[1].split(\" \"))[1])\n",
    "\n",
    "start_time = time.time()\n",
    "result = FrequentWordsWithMismatches(Text, k, d)\n",
    "end_time = time.time()\n",
    "\n",
    "print(f\"Time taken to find most frequent kmers with up to d mismatches without sorting: {end_time - start_time:.4f} seconds\")\n",
    "\n",
    "start_time = time.time()\n",
    "result = FindingFrequentWordsWithMismatchesBySorting(Text, k, d)\n",
    "end_time = time.time()\n",
    "\n",
    "print(f\"Time taken to find most frequent kmers with up to d mismatches with sorting: {end_time - start_time:.4f} seconds\")"
   ]
  },
  {
   "cell_type": "markdown",
   "id": "ea430afa",
   "metadata": {},
   "source": [
    "Finding the most frequent k-mers (with mismatches and reverse complements) in Text"
   ]
  },
  {
   "cell_type": "code",
   "execution_count": 28,
   "id": "a83cb7a1",
   "metadata": {},
   "outputs": [],
   "source": [
    "def FindingFrequentWordsWithMismatchesBySortingAndReverseComplements(Text, k, d):\n",
    "    NeighborhoodArray = []\n",
    "\n",
    "    for i in range(len(Text) - k + 1):\n",
    "        pattern = Text[i:i + k]\n",
    "        neighbors = Neighbors(pattern, d)\n",
    "        rev_neighbors = Neighbors(ReverseComplement(pattern), d)\n",
    "        NeighborhoodArray.extend(neighbors)\n",
    "        NeighborhoodArray.extend(rev_neighbors)\n",
    "\n",
    "    Index = [PatternToNumber(pattern) for pattern in NeighborhoodArray]\n",
    "    Count = [1] * len(Index)\n",
    "\n",
    "    SortedIndex = sorted(enumerate(Index), key=lambda x:x[1])\n",
    "\n",
    "    for i in range(1, len(SortedIndex)):\n",
    "        if SortedIndex[i][1] == SortedIndex[i-1][1]:\n",
    "            Count[SortedIndex[i][0]] = Count[SortedIndex[i-1][0]] + 1\n",
    "\n",
    "    maxCount = max(Count)\n",
    "    FrequentPatterns = set()\n",
    "\n",
    "    for i, count in enumerate(Count):\n",
    "        if count == maxCount:\n",
    "            pattern = NumberToPattern(Index[i], k)\n",
    "            FrequentPatterns.add(pattern)\n",
    "\n",
    "    return FrequentPatterns"
   ]
  },
  {
   "cell_type": "code",
   "execution_count": 35,
   "id": "036e677b",
   "metadata": {},
   "outputs": [
    {
     "name": "stdout",
     "output_type": "stream",
     "text": [
      "Most frequent k-mers with up to d mismatches are: ATATAT\n"
     ]
    }
   ],
   "source": [
    "with open(\"FrequentWordsWithMismatchesAndReverseComplement.txt\") as f:\n",
    "    all =f.readlines()\n",
    "    Text = all[0].strip()\n",
    "    k = int((all[1].split(\" \"))[0])\n",
    "    d = int((all[1].split(\" \"))[1])\n",
    "\n",
    "result = FindingFrequentWordsWithMismatchesBySortingAndReverseComplements(Text, k, d)\n",
    "print(f\"Most frequent k-mers with up to d mismatches are: {' '.join(result)}\")"
   ]
  },
  {
   "cell_type": "markdown",
   "id": "8dbf1de5",
   "metadata": {},
   "source": [
    "A faster algorithm to find frequent words with mismatches and reverse complements by using a hash map"
   ]
  },
  {
   "cell_type": "code",
   "execution_count": 30,
   "id": "af96ce0a",
   "metadata": {},
   "outputs": [],
   "source": [
    "from collections import defaultdict\n",
    "\n",
    "def FrequentWordsWithMismatchesAndReverseComplements(Text, k, d):\n",
    "    frequency_map = defaultdict(int)\n",
    "    for i in range(len(Text) - k + 1):\n",
    "        pattern = Text[i:i + k]\n",
    "        neighborhood = Neighbors(pattern, d)\n",
    "        for approx_pattern in neighborhood:\n",
    "            rev_comp = ReverseComplement(approx_pattern)\n",
    "            frequency_map[approx_pattern] += 1\n",
    "            frequency_map[rev_comp] += 1\n",
    "\n",
    "    max_count = max(frequency_map.values())\n",
    "    return [pattern for pattern, count in frequency_map.items() if count == max_count]"
   ]
  },
  {
   "cell_type": "code",
   "execution_count": 36,
   "id": "3ee071f3",
   "metadata": {},
   "outputs": [
    {
     "name": "stdout",
     "output_type": "stream",
     "text": [
      "Most frequent k-mers with up to d mismatches are: ATATAT\n"
     ]
    }
   ],
   "source": [
    "with open(\"FrequentWordsWithMismatchesAndReverseComplement.txt\") as f:\n",
    "    all =f.readlines()\n",
    "    Text = all[0].strip()\n",
    "    k = int((all[1].split(\" \"))[0])\n",
    "    d = int((all[1].split(\" \"))[1])\n",
    "\n",
    "result = FrequentWordsWithMismatchesAndReverseComplements(Text, k, d)\n",
    "print(f\"Most frequent k-mers with up to d mismatches are: {' '.join(result)}\")"
   ]
  },
  {
   "cell_type": "code",
   "execution_count": 37,
   "id": "ed200c36",
   "metadata": {},
   "outputs": [
    {
     "name": "stdout",
     "output_type": "stream",
     "text": [
      "Time taken to find most frequent kmers with up to d mismatches and reverse complements by sorting: 1.1523 seconds\n",
      "Time taken to find most frequent kmers with up to d mismatches and reverse complements using hash map: 0.2873 seconds\n"
     ]
    }
   ],
   "source": [
    "import time\n",
    "\n",
    "with open(\"FrequentWordsWithMismatchesAndReverseComplement.txt\") as f:\n",
    "    all =f.readlines()\n",
    "    Text = all[0].strip()\n",
    "    k = int((all[1].split(\" \"))[0])\n",
    "    d = int((all[1].split(\" \"))[1])\n",
    "\n",
    "start_time = time.time()\n",
    "result = FindingFrequentWordsWithMismatchesBySortingAndReverseComplements(Text, k, d)\n",
    "end_time = time.time()\n",
    "\n",
    "print(f\"Time taken to find most frequent kmers with up to d mismatches and reverse complements by sorting: {end_time - start_time:.4f} seconds\")\n",
    "\n",
    "start_time = time.time()\n",
    "result = FrequentWordsWithMismatchesAndReverseComplements(Text, k, d)\n",
    "end_time = time.time()\n",
    "\n",
    "print(f\"Time taken to find most frequent kmers with up to d mismatches and reverse complements using hash map: {end_time - start_time:.4f} seconds\")"
   ]
  },
  {
   "cell_type": "markdown",
   "id": "c940d2fb",
   "metadata": {},
   "source": [
    "Finding the most frequent 9-mers (with 1 mismatch and reverse complements) within a window of length 500 starting at the minimum skew position i.e., 3923620 of the E. coli genome"
   ]
  },
  {
   "cell_type": "code",
   "execution_count": 39,
   "id": "c732676d",
   "metadata": {},
   "outputs": [],
   "source": [
    "genome = open('E_coli_genome.txt','r').read().strip()\n",
    "k = 9\n",
    "d = 1\n",
    "window_start = 3923620\n",
    "window_length = 500\n",
    "\n",
    "window = genome[window_start:window_start + window_length]\n",
    "\n",
    "result = FrequentWordsWithMismatchesAndReverseComplements(window, k, d)\n",
    "with open(\"e_coli_ori_kmers.txt\", \"w\") as f:\n",
    "    f.write(\"\\n\".join(map(str, result)))"
   ]
  }
 ],
 "metadata": {
  "kernelspec": {
   "display_name": "base",
   "language": "python",
   "name": "python3"
  },
  "language_info": {
   "codemirror_mode": {
    "name": "ipython",
    "version": 3
   },
   "file_extension": ".py",
   "mimetype": "text/x-python",
   "name": "python",
   "nbconvert_exporter": "python",
   "pygments_lexer": "ipython3",
   "version": "3.12.4"
  }
 },
 "nbformat": 4,
 "nbformat_minor": 5
}
